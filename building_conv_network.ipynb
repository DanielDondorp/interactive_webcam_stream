{
 "cells": [
  {
   "cell_type": "code",
   "execution_count": 168,
   "metadata": {},
   "outputs": [],
   "source": [
    "import tensorflow as tf\n",
    "from tensorflow import keras\n",
    "from sklearn.model_selection import train_test_split\n",
    "from sklearn.utils import shuffle\n",
    "from sklearn.preprocessing import OneHotEncoder, LabelEncoder\n",
    "from skimage import io\n",
    "import glob\n",
    "import numpy as np\n",
    "import tqdm\n",
    "import matplotlib.pyplot as plt"
   ]
  },
  {
   "cell_type": "markdown",
   "metadata": {},
   "source": [
    "## Building a simple Convolutional Neural Net to classify webcam images"
   ]
  },
  {
   "cell_type": "code",
   "execution_count": 169,
   "metadata": {},
   "outputs": [],
   "source": [
    "path_to_data = \"./\""
   ]
  },
  {
   "cell_type": "code",
   "execution_count": 213,
   "metadata": {},
   "outputs": [],
   "source": [
    "def create_dataset(path_to_data = \"./data\"):\n",
    "    \"\"\"\n",
    "    Load all training data in the path and build the featureset and target column.\n",
    "    \"\"\"\n",
    "    images = glob.glob(f\"{path_to_data}/**/*.jpg\")\n",
    "    X = []\n",
    "    y = []\n",
    "    for image in tqdm.tqdm(images):\n",
    "        im = io.imread(image)\n",
    "        label = image.split(\"/\")[-2]\n",
    "        X.append(im)\n",
    "        y.append(label)\n",
    "        \n",
    "    labels = y\n",
    "    le = LabelEncoder()\n",
    "    y = keras.utils.to_categorical(le.fit_transform(labels))\n",
    "    X, y = shuffle(X,y)\n",
    "    X = np.array(X).reshape(len(X), 60, 80, 1)\n",
    "    X_train, X_test, y_train, y_test = train_test_split(X, y)\n",
    "    return X_train, X_test, y_train, y_test, le\n",
    "        \n",
    "    "
   ]
  },
  {
   "cell_type": "code",
   "execution_count": 214,
   "metadata": {},
   "outputs": [
    {
     "name": "stderr",
     "output_type": "stream",
     "text": [
      "100%|██████████| 1200/1200 [00:00<00:00, 2674.14it/s]\n"
     ]
    }
   ],
   "source": [
    "X_train, X_test, y_train, y_test, le = create_dataset()"
   ]
  },
  {
   "cell_type": "code",
   "execution_count": 215,
   "metadata": {},
   "outputs": [],
   "source": [
    "def create_model(output_size):\n",
    "    \"\"\"\n",
    "    Create a simple convnet with keras\n",
    "    \"\"\"\n",
    "    model = keras.models.Sequential()\n",
    "    model.add(keras.layers.Conv2D(64, kernel_size = 3, activation = \"relu\", input_shape = (60,80,1)))\n",
    "    model.add(keras.layers.Dropout(.2))\n",
    "    model.add(keras.layers.Conv2D(32, kernel_size = 3, activation = \"relu\"))\n",
    "    model.add(keras.layers.Flatten())\n",
    "    model.add(keras.layers.Dropout(.2))\n",
    "    model.add(keras.layers.Dense(output_size, activation = \"softmax\"))\n",
    "    model.compile(optimizer='adam', loss='categorical_crossentropy', metrics=['accuracy'])\n",
    "    return model"
   ]
  },
  {
   "cell_type": "code",
   "execution_count": 216,
   "metadata": {},
   "outputs": [],
   "source": [
    "#create and train the model\n",
    "model = create_model(len(le.classes_))\n",
    "model.fit(X_train, y_train, validation_data = (X_test, y_test), epochs = 5)"
   ]
  },
  {
   "cell_type": "code",
   "execution_count": 194,
   "metadata": {},
   "outputs": [
    {
     "name": "stdout",
     "output_type": "stream",
     "text": [
      "INFO:tensorflow:Assets written to: model_home/assets\n"
     ]
    }
   ],
   "source": [
    "#save the model and classes\n",
    "model.save(\"model_home\")\n",
    "classes = le.classes_\n",
    "np.save(\"classes.npy\", classes)"
   ]
  }
 ],
 "metadata": {
  "kernelspec": {
   "display_name": "Python 3",
   "language": "python",
   "name": "python3"
  },
  "language_info": {
   "codemirror_mode": {
    "name": "ipython",
    "version": 3
   },
   "file_extension": ".py",
   "mimetype": "text/x-python",
   "name": "python",
   "nbconvert_exporter": "python",
   "pygments_lexer": "ipython3",
   "version": "3.6.9"
  }
 },
 "nbformat": 4,
 "nbformat_minor": 2
}
