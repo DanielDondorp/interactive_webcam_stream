{
 "cells": [
  {
   "cell_type": "code",
   "execution_count": 168,
   "metadata": {},
   "outputs": [],
   "source": [
    "import tensorflow as tf\n",
    "from tensorflow import keras\n",
    "from sklearn.model_selection import train_test_split\n",
    "from sklearn.utils import shuffle\n",
    "from sklearn.preprocessing import OneHotEncoder, LabelEncoder\n",
    "from skimage import io\n",
    "import glob\n",
    "import numpy as np\n",
    "import tqdm\n",
    "import matplotlib.pyplot as plt"
   ]
  },
  {
   "cell_type": "code",
   "execution_count": 169,
   "metadata": {},
   "outputs": [],
   "source": [
    "path_to_data = \"./\""
   ]
  },
  {
   "cell_type": "code",
   "execution_count": 213,
   "metadata": {},
   "outputs": [],
   "source": [
    "def create_dataset(path_to_data = \"./data\"):\n",
    "    images = glob.glob(f\"{path_to_data}/**/*.jpg\")\n",
    "    X = []\n",
    "    y = []\n",
    "    for image in tqdm.tqdm(images):\n",
    "        im = io.imread(image)\n",
    "        label = image.split(\"/\")[-2]\n",
    "        X.append(im)\n",
    "        y.append(label)\n",
    "        \n",
    "    labels = y\n",
    "    le = LabelEncoder()\n",
    "    y = keras.utils.to_categorical(le.fit_transform(labels))\n",
    "    X, y = shuffle(X,y)\n",
    "    X = np.array(X).reshape(len(X), 60, 80, 1)\n",
    "    X_train, X_test, y_train, y_test = train_test_split(X, y)\n",
    "    return X_train, X_test, y_train, y_test, le\n",
    "        \n",
    "    "
   ]
  },
  {
   "cell_type": "code",
   "execution_count": 214,
   "metadata": {},
   "outputs": [
    {
     "name": "stderr",
     "output_type": "stream",
     "text": [
      "100%|██████████| 1200/1200 [00:00<00:00, 2674.14it/s]\n"
     ]
    }
   ],
   "source": [
    "X_train, X_test, y_train, y_test, le = create_dataset()"
   ]
  },
  {
   "cell_type": "code",
   "execution_count": 215,
   "metadata": {},
   "outputs": [],
   "source": [
    "def create_model(output_size):\n",
    "    model = keras.models.Sequential()\n",
    "    model.add(keras.layers.Conv2D(64, kernel_size = 3, activation = \"relu\", input_shape = (60,80,1)))\n",
    "    model.add(keras.layers.Dropout(.2))\n",
    "    model.add(keras.layers.Conv2D(32, kernel_size = 3, activation = \"relu\"))\n",
    "    model.add(keras.layers.Flatten())\n",
    "    model.add(keras.layers.Dropout(.2))\n",
    "    model.add(keras.layers.Dense(output_size, activation = \"softmax\"))\n",
    "    model.compile(optimizer='adam', loss='categorical_crossentropy', metrics=['accuracy'])\n",
    "    return model"
   ]
  },
  {
   "cell_type": "code",
   "execution_count": 216,
   "metadata": {},
   "outputs": [],
   "source": [
    "model = create_model(len(le.classes_))"
   ]
  },
  {
   "cell_type": "code",
   "execution_count": 217,
   "metadata": {},
   "outputs": [
    {
     "name": "stdout",
     "output_type": "stream",
     "text": [
      "Train on 900 samples, validate on 300 samples\n",
      "Epoch 1/5\n",
      "900/900 [==============================] - 15s 17ms/sample - loss: 93.9601 - accuracy: 0.6822 - val_loss: 0.2528 - val_accuracy: 0.9567\n",
      "Epoch 2/5\n",
      "900/900 [==============================] - 15s 16ms/sample - loss: 0.0483 - accuracy: 0.9844 - val_loss: 0.0333 - val_accuracy: 1.0000\n",
      "Epoch 3/5\n",
      "900/900 [==============================] - 13s 15ms/sample - loss: 0.0128 - accuracy: 0.9944 - val_loss: 0.0063 - val_accuracy: 1.0000\n",
      "Epoch 4/5\n",
      "900/900 [==============================] - 14s 16ms/sample - loss: 0.0016 - accuracy: 1.0000 - val_loss: 7.0013e-04 - val_accuracy: 1.0000\n",
      "Epoch 5/5\n",
      "900/900 [==============================] - 15s 16ms/sample - loss: 0.0016 - accuracy: 0.9989 - val_loss: 5.7784e-04 - val_accuracy: 1.0000\n"
     ]
    },
    {
     "data": {
      "text/plain": [
       "<tensorflow.python.keras.callbacks.History at 0x7fbe4064a748>"
      ]
     },
     "execution_count": 217,
     "metadata": {},
     "output_type": "execute_result"
    }
   ],
   "source": [
    "model.fit(X_train, y_train, validation_data = (X_test, y_test), epochs = 5)"
   ]
  },
  {
   "cell_type": "code",
   "execution_count": 194,
   "metadata": {},
   "outputs": [
    {
     "name": "stdout",
     "output_type": "stream",
     "text": [
      "INFO:tensorflow:Assets written to: model_home/assets\n"
     ]
    }
   ],
   "source": [
    "model.save(\"model_home\")\n",
    "\n",
    "classes = le.classes_\n",
    "np.save(\"classes.npy\", classes)"
   ]
  },
  {
   "cell_type": "code",
   "execution_count": 196,
   "metadata": {},
   "outputs": [],
   "source": [
    "prediction = model.predict_classes(X_test[14].reshape(1,60,80,1))"
   ]
  },
  {
   "cell_type": "code",
   "execution_count": 197,
   "metadata": {},
   "outputs": [
    {
     "data": {
      "text/plain": [
       "array(['question'], dtype='<U10')"
      ]
     },
     "execution_count": 197,
     "metadata": {},
     "output_type": "execute_result"
    }
   ],
   "source": [
    "le.classes_[prediction]"
   ]
  },
  {
   "cell_type": "code",
   "execution_count": 198,
   "metadata": {},
   "outputs": [
    {
     "data": {
      "text/plain": [
       "<matplotlib.image.AxesImage at 0x7fbe4062c208>"
      ]
     },
     "execution_count": 198,
     "metadata": {},
     "output_type": "execute_result"
    },
    {
     "data": {
      "image/png": "[encoded data removed]",
      "text/plain": [
       "<Figure size 432x288 with 1 Axes>"
      ]
     },
     "metadata": {
      "needs_background": "light"
     },
     "output_type": "display_data"
    }
   ],
   "source": [
    "plt.imshow(X_test[14][:,:,0])"
   ]
  },
  {
   "cell_type": "code",
   "execution_count": 199,
   "metadata": {},
   "outputs": [
    {
     "data": {
      "text/plain": [
       "LabelEncoder()"
      ]
     },
     "execution_count": 199,
     "metadata": {},
     "output_type": "execute_result"
    }
   ],
   "source": [
    "le.fit(labels)"
   ]
  },
  {
   "cell_type": "code",
   "execution_count": 200,
   "metadata": {},
   "outputs": [
    {
     "data": {
      "text/plain": [
       "array(['background', 'ok', 'question', 'wave'], dtype='<U10')"
      ]
     },
     "execution_count": 200,
     "metadata": {},
     "output_type": "execute_result"
    }
   ],
   "source": [
    "le.classes_"
   ]
  },
  {
   "cell_type": "code",
   "execution_count": null,
   "metadata": {},
   "outputs": [],
   "source": []
  }
 ],
 "metadata": {
  "kernelspec": {
   "display_name": "Python 3",
   "language": "python",
   "name": "python3"
  },
  "language_info": {
   "codemirror_mode": {
    "name": "ipython",
    "version": 3
   },
   "file_extension": ".py",
   "mimetype": "text/x-python",
   "name": "python",
   "nbconvert_exporter": "python",
   "pygments_lexer": "ipython3",
   "version": "3.6.9"
  }
 },
 "nbformat": 4,
 "nbformat_minor": 2
}
